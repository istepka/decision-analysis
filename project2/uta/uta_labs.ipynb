{
 "cells": [
  {
   "cell_type": "markdown",
   "metadata": {},
   "source": [
    "# Introduction\n",
    "In this tutorial, we will learn how to use the PuLP library in Python to solve linear programming problems. Linear programming is a method to achieve the best outcome in a mathematical model whose requirements are represented by linear constraints."
   ]
  },
  {
   "cell_type": "code",
   "execution_count": 1,
   "metadata": {},
   "outputs": [],
   "source": [
    "#Install pulp\n",
    "# !pip install pulp"
   ]
  },
  {
   "cell_type": "markdown",
   "metadata": {},
   "source": [
    "## Problem Formulation\n",
    "Let's consider a simple problem: \n",
    "\n",
    "Maximize: $$Z = 4x + 3y$$ \n",
    "Subject to: \n",
    "$$2x + y \\leq 20$$ \n",
    "$$x + y \\leq 12$$ \n",
    "$$x, y \\geq 0$$"
   ]
  },
  {
   "cell_type": "code",
   "execution_count": 2,
   "metadata": {},
   "outputs": [
    {
     "name": "stderr",
     "output_type": "stream",
     "text": [
      "/home/ignacy/miniconda3/envs/putenv/lib/python3.11/site-packages/pulp/pulp.py:1316: UserWarning: Spaces are not permitted in the name. Converted to '_'\n",
      "  warnings.warn(\"Spaces are not permitted in the name. Converted to '_'\")\n"
     ]
    }
   ],
   "source": [
    "# Import the library\n",
    "from pulp import *\n",
    "\n",
    "# Create a problem variable:\n",
    "prob = LpProblem(\"Maximize the profit Z\", LpMaximize)\n",
    "\n",
    "# Create problem variables:\n",
    "x = LpVariable(\"x\", lowBound=0, upBound=None) # x>=0\n",
    "y = LpVariable(\"y\", lowBound=0, upBound=None) # y>=0\n"
   ]
  },
  {
   "cell_type": "markdown",
   "metadata": {},
   "source": [
    "In linear programming problems, the objective function represents the quantity which needs to be minimized or maximized. It does not have constraints like `<=` or `>=`. On the other hand, constraints are the restrictions or limitations on the variables. They have a certain form based on the problem requirements, often represented with `<=`, `>=`, or `==`."
   ]
  },
  {
   "cell_type": "code",
   "execution_count": 3,
   "metadata": {},
   "outputs": [],
   "source": [
    "\n",
    "# The objective function and constraints are added using the += operator to our model.\n",
    "# Objective function Z\n",
    "prob += 4*x + 3*y, \"Profit\" \n",
    "\n",
    "# Constraints\n",
    "prob += 2*x + y <= 20\n",
    "prob += x + y <= 12"
   ]
  },
  {
   "cell_type": "markdown",
   "metadata": {},
   "source": [
    "<b>Note: The names of variables or constraints must be unique and special characters must not appear, e.g. `=`,`<`,`>`. "
   ]
  },
  {
   "cell_type": "code",
   "execution_count": 4,
   "metadata": {},
   "outputs": [
    {
     "data": {
      "text/plain": [
       "Maximize_the_profit_Z:\n",
       "MAXIMIZE\n",
       "4*x + 3*y + 0\n",
       "SUBJECT TO\n",
       "_C1: 2 x + y <= 20\n",
       "\n",
       "_C2: x + y <= 12\n",
       "\n",
       "VARIABLES\n",
       "x Continuous\n",
       "y Continuous"
      ]
     },
     "execution_count": 4,
     "metadata": {},
     "output_type": "execute_result"
    }
   ],
   "source": [
    "# Problem\n",
    "prob"
   ]
  },
  {
   "cell_type": "code",
   "execution_count": 5,
   "metadata": {},
   "outputs": [
    {
     "name": "stdout",
     "output_type": "stream",
     "text": [
      "Welcome to the CBC MILP Solver \n",
      "Version: 2.10.3 \n",
      "Build Date: Dec 15 2019 \n",
      "\n",
      "command line - /home/ignacy/miniconda3/envs/putenv/lib/python3.11/site-packages/pulp/solverdir/cbc/linux/64/cbc /tmp/ed3db3a3bfd548a3a09754104faa9707-pulp.mps -max -timeMode elapsed -branch -printingOptions all -solution /tmp/ed3db3a3bfd548a3a09754104faa9707-pulp.sol (default strategy 1)\n",
      "At line 2 NAME          MODEL\n",
      "At line 3 ROWS\n",
      "At line 7 COLUMNS\n",
      "At line 14 RHS\n",
      "At line 17 BOUNDS\n",
      "At line 18 ENDATA\n",
      "Problem MODEL has 2 rows, 2 columns and 4 elements\n",
      "Coin0008I MODEL read with 0 errors\n",
      "Option for timeMode changed from cpu to elapsed\n",
      "Presolve 2 (0) rows, 2 (0) columns and 4 (0) elements\n",
      "0  Obj -0 Dual inf 6.9999998 (2)\n",
      "0  Obj -0 Dual inf 6.9999998 (2)\n",
      "2  Obj 44\n",
      "Optimal - objective value 44\n",
      "Optimal objective 44 - 2 iterations time 0.002\n",
      "Option for printingOptions changed from normal to all\n",
      "Total time (CPU seconds):       0.00   (Wallclock seconds):       0.00\n",
      "\n",
      "Status: Optimal\n",
      "x = 8.0\n",
      "y = 4.0\n",
      "Total profit is:  44.0\n"
     ]
    }
   ],
   "source": [
    "# Solve the problem\n",
    "prob.solve()\n",
    "print(\"Status:\", LpStatus[prob.status])\n",
    "\n",
    "# Print the optimal production amount of x and y\n",
    "for v in prob.variables():\n",
    "    print(v.name, \"=\", v.varValue)\n",
    "\n",
    "# Print the optimal profit\n",
    "print(\"Total profit is: \", value(prob.objective))"
   ]
  },
  {
   "cell_type": "markdown",
   "metadata": {},
   "source": [
    "# Second Example: Solving a Knapsack Problem\n",
    "In this example, we will solve a knapsack problem. We have a set of items, each with a weight and a value, and we want to determine the number of each item to include in a collection so that the total weight is less than or equal to a given limit and the total value is as large as possible.\n",
    "\n",
    "Maximize: \n",
    "$$Z = 50x_1 + 100x_2 + 120x_3$$ \n",
    "Subject to: \n",
    "$$10x_1 + 20x_2 + 30x_3 \\leq 50$$ \n",
    "$$x_1, x_2, x_3  \\in \\{0,1\\}$$"
   ]
  },
  {
   "cell_type": "code",
   "execution_count": 6,
   "metadata": {},
   "outputs": [],
   "source": [
    "# Create the 'prob' variable to contain the problem data\n",
    "prob = LpProblem(name=\"Knapsack Problem\", sense=LpMaximize)\n",
    "\n",
    "# The 3 binary variables that can only take values of 0 or 1\n",
    "x1 = LpVariable(name=\"Item1\", cat='Binary')\n",
    "x2 = LpVariable(name=\"Item2\", cat='Binary')\n",
    "x3 = LpVariable(name=\"Item3\", cat='Binary')\n",
    "\n",
    "# The objective function is added to 'prob'\n",
    "prob += lpSum([50*x1, 100*x2, 120*x3]), \"Total Value of Items in Knapsack\"\n",
    "\n",
    "# Constraint\n",
    "prob += lpSum([10*x1, 20*x2, 30*x3]) <= 50, \"Total Weight of Items in Knapsack\""
   ]
  },
  {
   "cell_type": "code",
   "execution_count": 7,
   "metadata": {},
   "outputs": [
    {
     "name": "stdout",
     "output_type": "stream",
     "text": [
      "Welcome to the CBC MILP Solver \n",
      "Version: 2.10.3 \n",
      "Build Date: Dec 15 2019 \n",
      "\n",
      "command line - /home/ignacy/miniconda3/envs/putenv/lib/python3.11/site-packages/pulp/solverdir/cbc/linux/64/cbc /tmp/e25ec19bed914f7d9b45204c5ef1d134-pulp.mps -max -timeMode elapsed -branch -printingOptions all -solution /tmp/e25ec19bed914f7d9b45204c5ef1d134-pulp.sol (default strategy 1)\n",
      "At line 2 NAME          MODEL\n",
      "At line 3 ROWS\n",
      "At line 6 COLUMNS\n",
      "At line 19 RHS\n",
      "At line 21 BOUNDS\n",
      "At line 25 ENDATA\n",
      "Problem MODEL has 1 rows, 3 columns and 3 elements\n",
      "Coin0008I MODEL read with 0 errors\n",
      "Option for timeMode changed from cpu to elapsed\n",
      "Continuous objective value is 230 - 0.00 seconds\n",
      "Cgl0003I 0 fixed, 0 tightened bounds, 1 strengthened rows, 0 substitutions\n",
      "Cgl0004I processed model has 1 rows, 3 columns (3 integer (3 of which binary)) and 3 elements\n",
      "Cutoff increment increased from 1e-05 to 9.9999\n",
      "Cbc0038I Initial state - 0 integers unsatisfied sum - 0\n",
      "Cbc0038I Solution found of -220\n",
      "Cbc0038I Before mini branch and bound, 3 integers at bound fixed and 0 continuous\n",
      "Cbc0038I Mini branch and bound did not improve solution (0.01 seconds)\n",
      "Cbc0038I After 0.01 seconds - Feasibility pump exiting with objective of -220 - took 0.00 seconds\n",
      "Cbc0012I Integer solution of -220 found by feasibility pump after 0 iterations and 0 nodes (0.01 seconds)\n",
      "Cbc0001I Search completed - best objective -220, took 0 iterations and 0 nodes (0.01 seconds)\n",
      "Cbc0035I Maximum depth 0, 0 variables fixed on reduced cost\n",
      "Cuts at root node changed objective from -220 to -220\n",
      "Probing was tried 0 times and created 0 cuts of which 0 were active after adding rounds of cuts (0.000 seconds)\n",
      "Gomory was tried 0 times and created 0 cuts of which 0 were active after adding rounds of cuts (0.000 seconds)\n",
      "Knapsack was tried 0 times and created 0 cuts of which 0 were active after adding rounds of cuts (0.000 seconds)\n",
      "Clique was tried 0 times and created 0 cuts of which 0 were active after adding rounds of cuts (0.000 seconds)\n",
      "MixedIntegerRounding2 was tried 0 times and created 0 cuts of which 0 were active after adding rounds of cuts (0.000 seconds)\n",
      "FlowCover was tried 0 times and created 0 cuts of which 0 were active after adding rounds of cuts (0.000 seconds)\n",
      "TwoMirCuts was tried 0 times and created 0 cuts of which 0 were active after adding rounds of cuts (0.000 seconds)\n",
      "ZeroHalf was tried 0 times and created 0 cuts of which 0 were active after adding rounds of cuts (0.000 seconds)\n",
      "\n",
      "Result - Optimal solution found\n",
      "\n",
      "Objective value:                220.00000000\n",
      "Enumerated nodes:               0\n",
      "Total iterations:               0\n",
      "Time (CPU seconds):             0.00\n",
      "Time (Wallclock seconds):       0.01\n",
      "\n",
      "Option for printingOptions changed from normal to all\n",
      "Total time (CPU seconds):       0.00   (Wallclock seconds):       0.01\n",
      "\n",
      "Status: Optimal\n",
      "Item1 = 0.0\n",
      "Item2 = 1.0\n",
      "Item3 = 1.0\n",
      "Total value of items in knapsack is:  220.0\n"
     ]
    }
   ],
   "source": [
    "# Solve the problem\n",
    "prob.solve()\n",
    "print(\"Status:\", LpStatus[prob.status])\n",
    "\n",
    "# Print the optimal solution\n",
    "for v in prob.variables():\n",
    "    print(v.name, \"=\", v.varValue)\n",
    "\n",
    "# Print the optimal total value\n",
    "print(\"Total value of items in knapsack is: \", value(prob.objective))"
   ]
  },
  {
   "cell_type": "markdown",
   "metadata": {},
   "source": [
    "# Third Example: Using Binary Variables as Switches\n",
    "In this example, we will use a binary variable as a switch to control whether certain constraints are active or not. This is a common technique in linear programming when we want to model conditional constraints.\n",
    "\n",
    "Maximize: $$Z = b_1 + b_2 + b_3$$ \n",
    "Subject to: \n",
    "$$x + y + M(1-b_1) \\geq 50$$ \n",
    "$$x + 2y + M b_1 \\leq 100$$ \n",
    "$$3x + 2y + M(1-b_2) \\geq 50$$ \n",
    "$$-x + 5y + M b_3 > 75$$ \n",
    "$$x \\geq 0, x \\leq 8$$\n",
    "$$y \\geq 0$$\n",
    "$$b_1, b_2, b_3 \\in \\{0,1\\}$$"
   ]
  },
  {
   "cell_type": "code",
   "execution_count": 8,
   "metadata": {},
   "outputs": [],
   "source": [
    "prob = LpProblem(name=\"Switch Problem\", sense=LpMaximize)\n",
    "\n",
    "# The variables are created\n",
    "x = LpVariable(name=\"x\", lowBound=0,upBound=8)\n",
    "y = LpVariable(name=\"y\", lowBound=0)\n",
    "b1 = LpVariable(name=\"b1\", cat='Binary')\n",
    "b2 = LpVariable(name=\"b2\", cat='Binary')\n",
    "b3 = LpVariable(name=\"b3\", cat='Binary')\n",
    "\n",
    "# The objective function is added to 'prob' first\n",
    "prob += lpSum([b1,b2,b3]), \"Total Value\"\n",
    "\n",
    "\n",
    "M = 1000  # A very large number\n",
    "eps = 0.00001# A very small number\n",
    "prob += lpSum([x, y]) + M*(1-b1)>= 50 , \"Weight constraint when b1 is 1\"\n",
    "prob += lpSum([x, 2*y]) + M*b1 <= 100 , \"Weight constraint when b1 is 0\"\n",
    "prob += lpSum([3*x, 2*y]) + M*(1-b2)>= 50 , \"Weight constraint when b2 is 1\"\n",
    "# It is not possible to model sharp inequalities `>` or `<` in solver, \n",
    "# in order to model them a small epsilon value is added artificially to the non-sharp equations.\n",
    "prob += lpSum([-x, 5*y]) + M*b3 >= 75+eps , \"Weight constraint when b3 is 0\"\n"
   ]
  },
  {
   "cell_type": "code",
   "execution_count": 9,
   "metadata": {},
   "outputs": [
    {
     "name": "stdout",
     "output_type": "stream",
     "text": [
      "Welcome to the CBC MILP Solver \n",
      "Version: 2.10.3 \n",
      "Build Date: Dec 15 2019 \n",
      "\n",
      "command line - /home/ignacy/miniconda3/envs/putenv/lib/python3.11/site-packages/pulp/solverdir/cbc/linux/64/cbc /tmp/5eca995287b1444fb6d5dbe77dba0ff4-pulp.mps -max -timeMode elapsed -branch -printingOptions all -solution /tmp/5eca995287b1444fb6d5dbe77dba0ff4-pulp.sol (default strategy 1)\n",
      "At line 2 NAME          MODEL\n",
      "At line 3 ROWS\n",
      "At line 9 COLUMNS\n",
      "At line 31 RHS\n",
      "At line 36 BOUNDS\n",
      "At line 41 ENDATA\n",
      "Problem MODEL has 4 rows, 5 columns and 12 elements\n",
      "Coin0008I MODEL read with 0 errors\n",
      "Option for timeMode changed from cpu to elapsed\n",
      "Continuous objective value is 2.066 - 0.00 seconds\n",
      "Cgl0004I processed model has 2 rows, 3 columns (1 integer (1 of which binary)) and 5 elements\n",
      "Cutoff increment increased from 1e-05 to 0.9999\n",
      "Cbc0038I Initial state - 0 integers unsatisfied sum - 0\n",
      "Cbc0038I Solution found of -2\n",
      "Cbc0038I Relaxing continuous gives -2\n",
      "Cbc0038I Before mini branch and bound, 1 integers at bound fixed and 1 continuous\n",
      "Cbc0038I Mini branch and bound did not improve solution (0.00 seconds)\n",
      "Cbc0038I After 0.00 seconds - Feasibility pump exiting with objective of -2 - took 0.00 seconds\n",
      "Cbc0012I Integer solution of -2 found by feasibility pump after 0 iterations and 0 nodes (0.00 seconds)\n",
      "Cbc0001I Search completed - best objective -2, took 0 iterations and 0 nodes (0.00 seconds)\n",
      "Cbc0035I Maximum depth 0, 0 variables fixed on reduced cost\n",
      "Cuts at root node changed objective from -2 to -2\n",
      "Probing was tried 0 times and created 0 cuts of which 0 were active after adding rounds of cuts (0.000 seconds)\n",
      "Gomory was tried 0 times and created 0 cuts of which 0 were active after adding rounds of cuts (0.000 seconds)\n",
      "Knapsack was tried 0 times and created 0 cuts of which 0 were active after adding rounds of cuts (0.000 seconds)\n",
      "Clique was tried 0 times and created 0 cuts of which 0 were active after adding rounds of cuts (0.000 seconds)\n",
      "MixedIntegerRounding2 was tried 0 times and created 0 cuts of which 0 were active after adding rounds of cuts (0.000 seconds)\n",
      "FlowCover was tried 0 times and created 0 cuts of which 0 were active after adding rounds of cuts (0.000 seconds)\n",
      "TwoMirCuts was tried 0 times and created 0 cuts of which 0 were active after adding rounds of cuts (0.000 seconds)\n",
      "ZeroHalf was tried 0 times and created 0 cuts of which 0 were active after adding rounds of cuts (0.000 seconds)\n",
      "\n",
      "Result - Optimal solution found\n",
      "\n",
      "Objective value:                2.00000000\n",
      "Enumerated nodes:               0\n",
      "Total iterations:               0\n",
      "Time (CPU seconds):             0.00\n",
      "Time (Wallclock seconds):       0.00\n",
      "\n",
      "Option for printingOptions changed from normal to all\n",
      "Total time (CPU seconds):       0.00   (Wallclock seconds):       0.00\n",
      "\n",
      "Status: Optimal\n",
      "b1 = 0.0\n",
      "b2 = 1.0\n",
      "b3 = 1.0\n",
      "x = 8.0\n",
      "y = 13.0\n",
      "Total value is:  2.0\n"
     ]
    }
   ],
   "source": [
    "# Solve the problem\n",
    "prob.solve()\n",
    "print(\"Status:\", LpStatus[prob.status])\n",
    "\n",
    "# Print the optimal solution\n",
    "for v in prob.variables():\n",
    "    print(v.name, \"=\", v.varValue)\n",
    "\n",
    "# Print the optimal total value\n",
    "print(\"Total value is: \", value(prob.objective))"
   ]
  },
  {
   "cell_type": "markdown",
   "metadata": {},
   "source": [
    "# Fourth example: A simplified version of the UTA method"
   ]
  },
  {
   "cell_type": "code",
   "execution_count": 10,
   "metadata": {},
   "outputs": [
    {
     "name": "stdout",
     "output_type": "stream",
     "text": [
      "Welcome to the CBC MILP Solver \n",
      "Version: 2.10.3 \n",
      "Build Date: Dec 15 2019 \n",
      "\n",
      "command line - /home/ignacy/miniconda3/envs/putenv/lib/python3.11/site-packages/pulp/solverdir/cbc/linux/64/cbc /tmp/b67d37ca654d4585b7eadaff288a8496-pulp.mps -max -timeMode elapsed -branch -printingOptions all -solution /tmp/b67d37ca654d4585b7eadaff288a8496-pulp.sol (default strategy 1)\n",
      "At line 2 NAME          MODEL\n",
      "At line 3 ROWS\n",
      "At line 23 COLUMNS\n",
      "At line 60 RHS\n",
      "At line 79 BOUNDS\n",
      "At line 91 ENDATA\n",
      "Problem MODEL has 18 rows, 14 columns and 35 elements\n",
      "Coin0008I MODEL read with 0 errors\n",
      "Option for timeMode changed from cpu to elapsed\n",
      "Presolve determined that the problem was infeasible with tolerance of 1e-08\n",
      "Analysis indicates model infeasible or unbounded\n",
      "Perturbing problem by 0.001% of 1e-08 - largest nonzero change 0 ( 0%) - largest zero change 4.6103211e-08\n",
      "0  Obj -0 Primal inf 1.0199997 (3)\n",
      "5  Obj -8.3429238e-09 Primal inf 0.0199998 (2)\n",
      "Primal infeasible - objective value -8.3429238e-09\n",
      "PrimalInfeasible objective -8.342923844e-09 - 5 iterations time 0.002\n",
      "\n",
      "Result - Linear relaxation infeasible\n",
      "\n",
      "Enumerated nodes:           0\n",
      "Total iterations:           0\n",
      "Time (CPU seconds):         0.00\n",
      "Time (Wallclock Seconds):   0.00\n",
      "\n",
      "Option for printingOptions changed from normal to all\n",
      "Total time (CPU seconds):       0.00   (Wallclock seconds):       0.00\n",
      "\n",
      "Status: Infeasible\n",
      "Optimal Solution:\n",
      "Alternative1_Utility = 0.01\n",
      "Alternative2_Utility = 0.0\n",
      "Alternative3_Utility = 0.0\n",
      "__dummy = None\n",
      "criteria1_0 = 0.0\n",
      "criteria1_100 = 0.75\n",
      "criteria1_25 = 0.0\n",
      "criteria1_50 = 0.0\n",
      "criteria1_75 = 0.0\n",
      "criteria2_Bad = 0.01\n",
      "criteria2_Excellent = 0.25\n",
      "criteria2_Good = 0.0\n",
      "criteria2_Neutral = 0.0\n",
      "criteria2_Poor = 0.0\n",
      "Objective value: None\n"
     ]
    }
   ],
   "source": [
    "from pulp import LpProblem, LpVariable, LpMaximize, lpSum, value, LpStatus\n",
    "import random\n",
    "\n",
    "# Define criteria values and ranges\n",
    "criteria1_values = [0, 25, 50, 75, 100]\n",
    "criteria2_values = [\"Bad\", \"Poor\", \"Neutral\", \"Good\", \"Excellent\"]\n",
    "\n",
    "# Create LP problem\n",
    "prob = LpProblem(\"Simplified_UTA_Method\", LpMaximize)\n",
    "\n",
    "# Create variables for each value of criteria\n",
    "criteria1_vars = [LpVariable(f\"criteria1_{val}\", lowBound=0, upBound=1) for val in criteria1_values]\n",
    "criteria2_vars = [LpVariable(f\"criteria2_{val}\", lowBound=0, upBound=1) for val in criteria2_values]\n",
    "\n",
    "# Monotonicity constraint for criteria 1\n",
    "for i in range(len(criteria1_values) - 1):\n",
    "    prob += criteria1_vars[i] <= criteria1_vars[i+1], f\"Monotonicity_Criteria1_{i}\"\n",
    "\n",
    "# Monotonicity constraint for criteria 2\n",
    "for i in range(len(criteria2_values) - 1):\n",
    "    prob += criteria2_vars[i] <= criteria2_vars[i+1], f\"Monotonicity_Criteria2_{i}\"\n",
    "\n",
    "# Normalization constraints for criteria\n",
    "prob += criteria1_vars[0] == 0, \"Lowest_Value_Criteria1\"\n",
    "prob += criteria2_vars[0] == 0, \"Lowest_Value_Criteria2\"\n",
    "prob += criteria1_vars[-1] + criteria2_vars[-1]== 1, \"Normalization_Criteria_To_1\"\n",
    "\n",
    "# Add additional constraint for weights, this is not part of the UTA method\n",
    "prob += criteria1_vars[-1] <= 0.75, \"Weight_Constraint_Criteria1\"\n",
    "prob += criteria2_vars[-1] <= 0.75, \"Weight_Constraint_Criteria2\"\n",
    "\n",
    "# Define alternatives with evaluations on criteria\n",
    "alternatives = [\n",
    "    {\"name\": \"Alternative1\", \"evaluations\": [random.choice(criteria1_values), random.choice(criteria2_values)]},\n",
    "    {\"name\": \"Alternative2\", \"evaluations\": [random.choice(criteria1_values), random.choice(criteria2_values)]},\n",
    "    {\"name\": \"Alternative3\", \"evaluations\": [random.choice(criteria1_values), random.choice(criteria2_values)]}\n",
    "]\n",
    "\n",
    "alternative_utilities = {}\n",
    "\n",
    "# Add alternative utility variables to the problem\n",
    "for i, alt in enumerate(alternatives):\n",
    "    utility_var= LpVariable(f\"{alt['name']}_Utility\", lowBound=0)\n",
    "    alternative_utilities[alt['name']] = utility_var\n",
    "    alt_vars = [\n",
    "        criteria1_vars[criteria1_values.index(alternatives[i][\"evaluations\"][0])],\n",
    "        criteria2_vars[criteria2_values.index(alternatives[i][\"evaluations\"][1])]\n",
    "    ]\n",
    "    \n",
    "    prob += utility_var == lpSum(alt_vars), f\"Utility_{alt['name']}\"\n",
    "\n",
    "# Constraints for examples preferential information\n",
    "prob+= alternative_utilities[\"Alternative1\"]>=alternative_utilities[\"Alternative2\"]+0.01, \"Preferential_Information1\"\n",
    "prob+= alternative_utilities[\"Alternative1\"]>=alternative_utilities[\"Alternative3\"]+0.01, \"Preferential_Information2\"\n",
    "\n",
    "# Objective function\n",
    "# You need to write your own objective function depending on the variant of the UTA method.\n",
    "prob += 0  # No specific objective function, we just want to satisfy the constraints\n",
    "\n",
    "# Solve the problem\n",
    "prob.solve()\n",
    "\n",
    "# Print results\n",
    "print(\"Status:\", LpStatus[prob.status])\n",
    "print(\"Optimal Solution:\")\n",
    "for var in prob.variables():\n",
    "    print(f\"{var.name} = {value(var)}\")\n",
    "print(\"Objective value:\", value(prob.objective))"
   ]
  },
  {
   "cell_type": "code",
   "execution_count": null,
   "metadata": {},
   "outputs": [],
   "source": []
  },
  {
   "cell_type": "code",
   "execution_count": null,
   "metadata": {},
   "outputs": [],
   "source": []
  },
  {
   "cell_type": "code",
   "execution_count": null,
   "metadata": {},
   "outputs": [],
   "source": []
  }
 ],
 "metadata": {
  "kernelspec": {
   "display_name": "base2",
   "language": "python",
   "name": "python3"
  },
  "language_info": {
   "codemirror_mode": {
    "name": "ipython",
    "version": 3
   },
   "file_extension": ".py",
   "mimetype": "text/x-python",
   "name": "python",
   "nbconvert_exporter": "python",
   "pygments_lexer": "ipython3",
   "version": "3.11.6"
  }
 },
 "nbformat": 4,
 "nbformat_minor": 2
}
